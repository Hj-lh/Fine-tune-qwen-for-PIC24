{
 "cells": [
  {
   "cell_type": "code",
   "execution_count": 1,
   "metadata": {},
   "outputs": [
    {
     "name": "stdout",
     "output_type": "stream",
     "text": [
      "Dataset cleaned and saved to 'formatted_test_dataset.json'.\n"
     ]
    }
   ],
   "source": [
    "import json\n",
    "import subprocess\n",
    "\n",
    "# Function to format C code using clang-format\n",
    "def format_c_code(code):\n",
    "    try:\n",
    "        # Use clang-format to format the code\n",
    "        process = subprocess.run(\n",
    "            [\"clang-format\"], input=code.encode(), stdout=subprocess.PIPE, stderr=subprocess.PIPE\n",
    "        )\n",
    "        if process.returncode == 0:\n",
    "            return process.stdout.decode().strip()\n",
    "        else:\n",
    "            print(f\"Error formatting code: {process.stderr.decode()}\")\n",
    "            return code  # Return original code if formatting fails\n",
    "    except Exception as e:\n",
    "        print(f\"Exception during formatting: {e}\")\n",
    "        return code\n",
    "\n",
    "# Load the dataset\n",
    "with open(\"test_dataset.json\", \"r\") as f:\n",
    "    dataset = json.load(f)\n",
    "\n",
    "# Process each entry in the dataset\n",
    "for entry in dataset:\n",
    "    if \"response\" in entry:  # Check if the entry has a \"response\" field\n",
    "        response = entry[\"response\"]\n",
    "        if \"```c\" in response or \"```assembly\" in response:  # Check if the response contains code\n",
    "            # Extract the code block\n",
    "            code_start = response.find(\"```\") + 3\n",
    "            code_end = response.rfind(\"```\")\n",
    "            code = response[code_start:code_end].strip()\n",
    "\n",
    "            # Format the code\n",
    "            formatted_code = format_c_code(code)\n",
    "\n",
    "            # Replace the original code with the formatted code\n",
    "            entry[\"response\"] = response[:code_start] + \"\\n\" + formatted_code + \"\\n\" + response[code_end:]\n",
    "\n",
    "# Save the cleaned dataset\n",
    "with open(\"formatted_test_dataset.json\", \"w\") as f:\n",
    "    json.dump(dataset, f, indent=4)\n",
    "\n",
    "print(\"Dataset cleaned and saved to 'formatted_test_dataset.json'.\")"
   ]
  },
  {
   "cell_type": "code",
   "execution_count": null,
   "metadata": {},
   "outputs": [],
   "source": []
  }
 ],
 "metadata": {
  "kernelspec": {
   "display_name": "fine_tune_qwenfor_pic24_env",
   "language": "python",
   "name": "python3"
  },
  "language_info": {
   "codemirror_mode": {
    "name": "ipython",
    "version": 3
   },
   "file_extension": ".py",
   "mimetype": "text/x-python",
   "name": "python",
   "nbconvert_exporter": "python",
   "pygments_lexer": "ipython3",
   "version": "3.12.8"
  }
 },
 "nbformat": 4,
 "nbformat_minor": 2
}
